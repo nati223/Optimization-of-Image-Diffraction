{
 "cells": [
  {
   "cell_type": "code",
   "execution_count": 1,
   "id": "6a9ca707",
   "metadata": {},
   "outputs": [],
   "source": [
    "import numpy as np\n",
    "import pandas as pd\n",
    "from matplotlib import pyplot as plt\n",
    "from numpy.random import default_rng\n",
    "pi = np.pi"
   ]
  },
  {
   "cell_type": "code",
   "execution_count": 2,
   "id": "b3c4696b",
   "metadata": {},
   "outputs": [],
   "source": [
    "def make_image_stack(path):\n",
    "    df = pd.read_csv(path)\n",
    "    labels = df['label'].to_numpy()\n",
    "    df.drop(df.columns[0], axis=1, inplace=True)\n",
    "    img_stack = df.to_numpy()\n",
    "    return img_stack, labels"
   ]
  },
  {
   "cell_type": "code",
   "execution_count": 3,
   "id": "2fd21c70",
   "metadata": {},
   "outputs": [],
   "source": [
    "def get_image_by_index(index, img_stack, dim=28):\n",
    "    img = img_stack[index]\n",
    "    img = img.reshape(dim,dim)\n",
    "    return img"
   ]
  },
  {
   "cell_type": "code",
   "execution_count": 4,
   "id": "0d95097a",
   "metadata": {},
   "outputs": [],
   "source": [
    "# Not necessary for the algorithm, but was used in tests to check the images modulation\n",
    "def show_img(img):\n",
    "    plt.imshow(img, cmap=\"gray_r\")\n",
    "    plt.show()    "
   ]
  },
  {
   "cell_type": "code",
   "execution_count": 5,
   "id": "7957fdde",
   "metadata": {},
   "outputs": [],
   "source": [
    "def phase_modulate_img(img):\n",
    "    width, height = img.shape[0], img.shape[1]\n",
    "\n",
    "    #Perform binary modulation to phases of 0 or pi, according to threshold\n",
    "    threshold = 127\n",
    "    phase = np.where(img > threshold, 0, pi)\n",
    "    # Convert phase to complex exponent\n",
    "    modulated = np.exp(1j * phase)\n",
    "    return modulated"
   ]
  },
  {
   "cell_type": "code",
   "execution_count": 10,
   "id": "8a8e410c",
   "metadata": {},
   "outputs": [],
   "source": [
    "def random_phase_mask(dimx=28, dimy=28):\n",
    "    random_phases = np.exp(1j * 2 * pi * np.random.rand(dimx*dimy))\n",
    "    return random_phases"
   ]
  },
  {
   "cell_type": "code",
   "execution_count": 11,
   "id": "d067e818",
   "metadata": {},
   "outputs": [],
   "source": [
    "def fresnel_integral(img, wavelength, z):\n",
    "    # Compute the size of the input image\n",
    "    height, width = img.shape\n",
    "    # Compute the sampling interval\n",
    "    dx = dy = 1 / img.shape[0]\n",
    "    # Create a meshgrid of sampling points\n",
    "    x, y = np.meshgrid(np.linspace(-0.5, 0.5-dx, width), np.linspace(-0.5, 0.5-dy, height))\n",
    "    # Compute the diffraction kernel\n",
    "    k = 2 * pi / wavelength\n",
    "    kernel = np.exp(1j * k * (x**2 + y**2) / (2 * z)) / (1j * wavelength * z) #FIXME - might need to add another e^jkz)\n",
    "    # Compute the Fourier transform of the image\n",
    "    fft_img = np.fft.fft2(img)\n",
    "    # Multiply the Fourier transform by the diffraction kernel\n",
    "    fft_kernel = np.fft.fft2(kernel)\n",
    "    fft_result = fft_img * fft_kernel\n",
    "    # Compute the inverse Fourier transform of the result\n",
    "    result = np.fft.ifft2(fft_result)\n",
    "    # Compute the intensity of the result\n",
    "    intensity = np.abs(result)**2\n",
    "    return intensity"
   ]
  },
  {
   "cell_type": "code",
   "execution_count": 12,
   "id": "92bc8651",
   "metadata": {},
   "outputs": [],
   "source": [
    "def intensity_comparison(result, label):\n",
    "    # Get the dimensions of the result array\n",
    "    M, N = result.shape\n",
    "\n",
    "    # Calculate the intensity in the upper half of the result array\n",
    "    upper_intensity = np.sum(np.abs(result[:M//2, :])**2)\n",
    "\n",
    "    # Calculate the intensity in the lower half of the result array\n",
    "    lower_intensity = np.sum(np.abs(result[M//2:, :])**2)\n",
    "    \n",
    "    #Check if classification was performed correctly\n",
    "    if ((upper_intensity>lower_intensity and label == 0) or (upper_intensity<lower_intensity and label ==1)):\n",
    "        return 1\n",
    "    else:\n",
    "        return 0"
   ]
  },
  {
   "cell_type": "code",
   "execution_count": 13,
   "id": "587f02d1",
   "metadata": {},
   "outputs": [],
   "source": [
    "def fitness(mask, img_arr, labels, wavelength, z):\n",
    "    \n",
    "    score = 0\n",
    "    \n",
    "    for i in range(img_arr.shape[0]):\n",
    "        img = get_image_by_index(i, img_arr)\n",
    "        modulated = phase_modulate_img(img)\n",
    "        mask = mask.reshape((28,28))\n",
    "        phase_shifted_image = modulated * mask\n",
    "        intensity = fresnel_integral(phase_shifted_image, 10**-7, 100)\n",
    "        score += intensity_comparison(intensity, labels[i])\n",
    "    \n",
    "    return score\n"
   ]
  },
  {
   "cell_type": "code",
   "execution_count": 34,
   "id": "3665bcd7",
   "metadata": {},
   "outputs": [],
   "source": [
    "def genetic_algorithm(wavelength, z, pic_dim=28, pop_size=20, num_generations=50, mutation_prob=0.1):\n",
    "    \n",
    "    #Load training data\n",
    "    train_arr, labels = make_image_stack(\"mnist_train_cleaned.csv\")\n",
    "\n",
    "    rng = default_rng()\n",
    "    \n",
    "    population = np.empty([pop_size,pic_dim**2], dtype=complex)\n",
    "    for i in range(population.shape[0]):\n",
    "        population[i] = random_phase_mask(28,28) #FIXME\n",
    "            \n",
    "    # Loop through generations\n",
    "    for i in range(num_generations):\n",
    "        # Evaluate fitness for each individual in the population\n",
    "        fitness_values = [fitness(mask, train_arr, labels, wavelength, z) for mask in population]\n",
    "        # Select the top 50% performers to be the parents\n",
    "        num_parents = pop_size // 2\n",
    "        sorted_indices = np.argsort(fitness_values)\n",
    "        parents = population[sorted_indices[-num_parents:]]\n",
    "        # Generate offspring using crossover and mutation\n",
    "        offspring = np.zeros_like(parents)\n",
    "        for j in range(num_parents):\n",
    "            # Crossover: take half the genes from each parent\n",
    "            parent1 = parents[j]\n",
    "            parent2 = parents[np.random.randint(num_parents)]\n",
    "            crossover_point = rng.integers(pic_dim**2)\n",
    "            offspring[j, :crossover_point] = parent1[:crossover_point]\n",
    "            offspring[j, crossover_point:] = parent2[crossover_point:]\n",
    "            # Mutation: randomly shift some masking elements according to mutation probability\n",
    "            mutation_mask = rng.random(size=pic_dim**2) < mutation_prob\n",
    "            offspring[j][mutation_mask] = (np.exp(1j * 2 * pi * np.random.random()))*offspring[j][mutation_mask]\n",
    "        # Combine parents and offspring to form new population\n",
    "        population = np.vstack((parents, offspring))\n",
    "        \n",
    "    # Return the best mask found\n",
    "    best_index = np.argmax(fitness_values)\n",
    "    best_mask = population[best_index].reshape(pic_dim,pic_dim)\n",
    "    return best_mask"
   ]
  },
  {
   "cell_type": "code",
   "execution_count": 24,
   "id": "3de936d0",
   "metadata": {},
   "outputs": [],
   "source": [
    "def check_result(mask):\n",
    "    test_arr, labels = make_image_stack(\"mnist_test_cleaned.csv\")\n",
    "    \n",
    "    score = fitness(mask, test_arr, labels, 10**-7, 100)\n",
    "    print(f\"The mask classifies correctly with {100*score/test_arr.shape[0]}%\")\n"
   ]
  },
  {
   "cell_type": "code",
   "execution_count": 26,
   "id": "e0065f22",
   "metadata": {},
   "outputs": [],
   "source": [
    "#z has to signifcantly larger than x,y, see fresnel function. FIXME - smaller z might be enough?\n",
    "best = genetic_algorithm(wavelength=10**-7, z=100) "
   ]
  },
  {
   "cell_type": "code",
   "execution_count": 36,
   "id": "a5b8a6b1",
   "metadata": {},
   "outputs": [
    {
     "name": "stdout",
     "output_type": "stream",
     "text": [
      "The mask classifies correctly with 98.81796690307328%\n"
     ]
    }
   ],
   "source": [
    "check_result(best)"
   ]
  },
  {
   "cell_type": "code",
   "execution_count": null,
   "id": "27e22a18",
   "metadata": {},
   "outputs": [],
   "source": []
  }
 ],
 "metadata": {
  "kernelspec": {
   "display_name": "Python 3 (ipykernel)",
   "language": "python",
   "name": "python3"
  },
  "language_info": {
   "codemirror_mode": {
    "name": "ipython",
    "version": 3
   },
   "file_extension": ".py",
   "mimetype": "text/x-python",
   "name": "python",
   "nbconvert_exporter": "python",
   "pygments_lexer": "ipython3",
   "version": "3.10.6"
  }
 },
 "nbformat": 4,
 "nbformat_minor": 5
}
