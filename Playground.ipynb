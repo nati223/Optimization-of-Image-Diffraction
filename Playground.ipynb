{
 "cells": [
  {
   "cell_type": "code",
   "execution_count": 1,
   "id": "113d5a3f",
   "metadata": {},
   "outputs": [],
   "source": [
    "import numpy as np\n",
    "import pandas as pd\n",
    "from matplotlib import pyplot as plt\n",
    "import cv2\n",
    "pi = np.pi"
   ]
  },
  {
   "cell_type": "code",
   "execution_count": 2,
   "id": "b3e15fec",
   "metadata": {},
   "outputs": [],
   "source": [
    "def make_image_stack(path):\n",
    "    df = pd.read_csv(path)\n",
    "    labels = df['label'].to_numpy()\n",
    "    df.drop(df.columns[[0,1]], axis=1, inplace=True)\n",
    "    img_stack = df.to_numpy()\n",
    "    return img_stack, labels"
   ]
  },
  {
   "cell_type": "code",
   "execution_count": 3,
   "id": "4de331fc",
   "metadata": {},
   "outputs": [],
   "source": [
    "def get_image_from_stack(index, img_stack, dim):\n",
    "    img = img_stack[index]\n",
    "    img = img.reshape(dim,dim)\n",
    "    return img"
   ]
  },
  {
   "cell_type": "code",
   "execution_count": 4,
   "id": "378480ce",
   "metadata": {},
   "outputs": [],
   "source": [
    "def shift_img_phase(img, theta):\n",
    "    # Compute the Fourier Transform\n",
    "    f = np.fft.fft2(img)\n",
    "    # Shift the zero frequency component to the center of the spectrum\n",
    "    fshift = np.fft.fftshift(f)\n",
    "    # Compute the magnitude and phase spectra\n",
    "    magnitude_spectrum = np.abs(fshift)\n",
    "    phase_spectrum = np.angle(fshift)\n",
    "    \n",
    "    # Modulate the phase spectrum and shift it by theta\n",
    "    phase_shift = theta\n",
    "    modulated_phase_spectrum = phase_spectrum + phase_shift\n",
    "    combined_spectrum = magnitude_spectrum * np.exp(1j * modulated_phase_spectrum)\n",
    "    \n",
    "    # Get the shifted image by inverse Fourier Transform\n",
    "    fshift_back = np.fft.ifftshift(combined_spectrum)\n",
    "    shifted_img = np.fft.ifft2(fshift_back)\n",
    "    \n",
    "    # Normalize the image to 8-bit format for display\n",
    "    shifted_img = cv2.normalize(np.real(shifted_img), None, 0, 255, cv2.NORM_MINMAX, cv2.CV_8U)\n",
    "    return shifted_img"
   ]
  },
  {
   "cell_type": "code",
   "execution_count": 5,
   "id": "145c4c14",
   "metadata": {},
   "outputs": [],
   "source": [
    "def show_img(img):\n",
    "    plt.imshow(img, cmap=\"gray\")\n",
    "    plt.show()    "
   ]
  },
  {
   "cell_type": "code",
   "execution_count": 6,
   "id": "31366fb5",
   "metadata": {},
   "outputs": [],
   "source": [
    "def calc_intensity(img):\n",
    "    # Compute the Fourier Transform\n",
    "    f = np.fft.fft2(img)\n",
    "    # Shift the zero frequency component to the center of the spectrum\n",
    "    fshift = np.fft.fftshift(f)\n",
    "    # Compute the magnitude and phase spectra\n",
    "    magnitude_spectrum = np.abs(fshift)\n",
    "    \n",
    "    intensity_mean = (magnitude_spectrum.mean())/(magnitude_spectrum.max())\n",
    "    return intensity_mean"
   ]
  },
  {
   "cell_type": "code",
   "execution_count": 7,
   "id": "5cba3d96",
   "metadata": {},
   "outputs": [],
   "source": [
    "#main"
   ]
  },
  {
   "cell_type": "code",
   "execution_count": 8,
   "id": "be4b1c54",
   "metadata": {},
   "outputs": [],
   "source": [
    "train_arr, labels = make_image_stack(\"mnist_train_cleaned.csv\")"
   ]
  },
  {
   "cell_type": "code",
   "execution_count": 9,
   "id": "b957bb01",
   "metadata": {},
   "outputs": [],
   "source": [
    "img = get_image_from_stack(0, train_arr, 28)"
   ]
  },
  {
   "cell_type": "code",
   "execution_count": 10,
   "id": "e8989f05",
   "metadata": {},
   "outputs": [],
   "source": [
    "shifted_img = shift_img_phase(img, pi)"
   ]
  },
  {
   "cell_type": "code",
   "execution_count": 11,
   "id": "2d0fe321",
   "metadata": {},
   "outputs": [
    {
     "data": {
      "image/png": "[encoded data removed]",
      "text/plain": [
       "<Figure size 640x480 with 1 Axes>"
      ]
     },
     "metadata": {},
     "output_type": "display_data"
    }
   ],
   "source": [
    "show_img(img)"
   ]
  },
  {
   "cell_type": "code",
   "execution_count": 12,
   "id": "c95c94ed",
   "metadata": {},
   "outputs": [
    {
     "data": {
      "image/png": "[encoded data removed]",
      "text/plain": [
       "<Figure size 640x480 with 1 Axes>"
      ]
     },
     "metadata": {},
     "output_type": "display_data"
    }
   ],
   "source": [
    "show_img(shifted_img)"
   ]
  },
  {
   "cell_type": "code",
   "execution_count": 13,
   "id": "fab55f19",
   "metadata": {},
   "outputs": [
    {
     "data": {
      "text/plain": [
       "0.04231744745885965"
      ]
     },
     "execution_count": 13,
     "metadata": {},
     "output_type": "execute_result"
    }
   ],
   "source": [
    "calc_intensity(img)"
   ]
  },
  {
   "cell_type": "code",
   "execution_count": 14,
   "id": "bc004ac3",
   "metadata": {},
   "outputs": [
    {
     "data": {
      "text/plain": [
       "0.008834811486103386"
      ]
     },
     "execution_count": 14,
     "metadata": {},
     "output_type": "execute_result"
    }
   ],
   "source": [
    "calc_intensity(shifted_img)"
   ]
  }
 ],
 "metadata": {
  "kernelspec": {
   "display_name": "Python 3 (ipykernel)",
   "language": "python",
   "name": "python3"
  },
  "language_info": {
   "codemirror_mode": {
    "name": "ipython",
    "version": 3
   },
   "file_extension": ".py",
   "mimetype": "text/x-python",
   "name": "python",
   "nbconvert_exporter": "python",
   "pygments_lexer": "ipython3",
   "version": "3.10.6"
  }
 },
 "nbformat": 4,
 "nbformat_minor": 5
}
